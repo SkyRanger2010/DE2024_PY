{
  "nbformat": 4,
  "nbformat_minor": 0,
  "metadata": {
    "colab": {
      "provenance": [],
      "authorship_tag": "ABX9TyMXivJPlrX0d/hJyRZwZ7wL",
      "include_colab_link": true
    },
    "kernelspec": {
      "name": "python3",
      "display_name": "Python 3"
    },
    "language_info": {
      "name": "python"
    }
  },
  "cells": [
    {
      "cell_type": "markdown",
      "metadata": {
        "id": "view-in-github",
        "colab_type": "text"
      },
      "source": [
        "<a href=\"https://colab.research.google.com/github/SkyRanger2010/DE2024_PY/blob/main/HomeWork_4.ipynb\" target=\"_parent\"><img src=\"https://colab.research.google.com/assets/colab-badge.svg\" alt=\"Open In Colab\"/></a>"
      ]
    },
    {
      "cell_type": "markdown",
      "source": [
        "##Задание 1\n",
        "Напишите функцию, которая принимает на вход строку и проверяет, является\n",
        "ли она валидным транспортным номером (1 буква, 3 цифры, 2 буквы, 2–3\n",
        "цифры). Обратите внимание, что не все буквы кириллического алфавита\n",
        "используются в транспортных номерах.\n",
        "\n",
        "Если номер валиден, то функция должна возвращать отдельно номер и регион.\n",
        "\n",
        "Примеры работы программы:\n",
        "\n",
        "car_id = 'А222BС96'\n",
        "\n",
        "Результат: Номер А222BС валиден. Регион: 96.\n",
        "\n",
        "car_id = 'АБ22ВВ193'\n",
        "\n",
        "Результат: Номер не валиден."
      ],
      "metadata": {
        "id": "-nTFgNKETEHr"
      }
    },
    {
      "cell_type": "code",
      "source": [
        "import re\n",
        "\n",
        "def print_num_reg(number):\n",
        "    pattern_car_number='^([АABВEЕKКMМHНOОPРCСTТYУXХ]\\d{3}(?<!000)[АABВEЕKКMМHНOОPРCСTТYУXХ]{2})(\\d{2,3})'\n",
        "    result = re.match(pattern_car_number, number, flags=re.IGNORECASE)\n",
        "    if result:\n",
        "        print(f'Результат: Номер {result[1]} валиден. Регион: {result[2]}')\n",
        "    else:\n",
        "        print ('Номер невалиден!')\n",
        ""
      ],
      "metadata": {
        "id": "PADnv_jETTXI"
      },
      "execution_count": 1,
      "outputs": []
    },
    {
      "cell_type": "markdown",
      "source": [],
      "metadata": {
        "id": "JgP75bPJuRlM"
      }
    },
    {
      "cell_type": "code",
      "source": [
        "car_id = 'А222BС96'\n",
        "\n",
        "print_num_reg(car_id)"
      ],
      "metadata": {
        "id": "xsgrSeP_UFOE",
        "colab": {
          "base_uri": "https://localhost:8080/"
        },
        "outputId": "60f50c02-f9c5-4023-d096-f453c257de99"
      },
      "execution_count": 2,
      "outputs": [
        {
          "output_type": "stream",
          "name": "stdout",
          "text": [
            "Результат: Номер А222BС валиден. Регион: 96\n"
          ]
        }
      ]
    },
    {
      "cell_type": "code",
      "source": [
        "car_id = 'АБ22ВВ193'\n",
        "print_num_reg(car_id)"
      ],
      "metadata": {
        "colab": {
          "base_uri": "https://localhost:8080/"
        },
        "id": "ndjGLaT1jkjw",
        "outputId": "ba8524de-58f7-4a1d-9218-358373d60b41"
      },
      "execution_count": 3,
      "outputs": [
        {
          "output_type": "stream",
          "name": "stdout",
          "text": [
            "Номер невалиден!\n"
          ]
        }
      ]
    },
    {
      "cell_type": "code",
      "source": [
        "car_id = 'а222со777'\n",
        "print_num_reg(car_id)"
      ],
      "metadata": {
        "colab": {
          "base_uri": "https://localhost:8080/"
        },
        "id": "WKvxc0I-mf0a",
        "outputId": "2cf20699-e81d-4fbc-8604-5fef876bc1ca"
      },
      "execution_count": 4,
      "outputs": [
        {
          "output_type": "stream",
          "name": "stdout",
          "text": [
            "Результат: Номер а222со валиден. Регион: 777\n"
          ]
        }
      ]
    },
    {
      "cell_type": "markdown",
      "source": [
        "## Задание 2\n",
        "Напишите функцию, которая будет удалять все последовательные повторы\n",
        "слов из заданной строки при помощи регулярных выражений.\n",
        "Пример работы программы:\n",
        "some_string = 'Напишите функцию функцию, которая будет будет будет будет\n",
        "удалять все все все все последовательные повторы слов из из из из заданной\n",
        "строки строки при помощи регулярных выражений'\n",
        "Результат: Напишите функцию, которая будет удалять все последовательные\n",
        "повторы слов из заданной строки при помощи регулярных выражений."
      ],
      "metadata": {
        "id": "4oblzZjJkBTH"
      }
    },
    {
      "cell_type": "code",
      "source": [
        "import re\n",
        "\n",
        "def remove_duplicate_words(input_string):\n",
        "    pattern = r'\\b(\\w+)(?:\\W+\\1\\b)+'\n",
        "    result = re.sub(pattern, r'\\1', input_string, flags=re.IGNORECASE)\n",
        "    print(result)\n",
        "\n"
      ],
      "metadata": {
        "id": "vEDG37HXkKGV"
      },
      "execution_count": 5,
      "outputs": []
    },
    {
      "cell_type": "code",
      "source": [
        "some_string = \"Напишите функцию функцию, которая будет будет будет будет удалять\"\\\n",
        "              \" все все все все последовательные повторы слов из из из из заданной\"\\\n",
        "              \" строки строки при помощи регулярных выражений\"\n",
        "remove_duplicate_words(some_string)\n"
      ],
      "metadata": {
        "colab": {
          "base_uri": "https://localhost:8080/"
        },
        "id": "Ca5ew1whnErO",
        "outputId": "f105d439-10eb-4436-d757-38b0349977f6"
      },
      "execution_count": 6,
      "outputs": [
        {
          "output_type": "stream",
          "name": "stdout",
          "text": [
            "Напишите функцию, которая будет удалять все последовательные повторы слов из заданной строки при помощи регулярных выражений\n"
          ]
        }
      ]
    }
  ]
}
