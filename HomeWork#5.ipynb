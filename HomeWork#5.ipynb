{
  "nbformat": 4,
  "nbformat_minor": 0,
  "metadata": {
    "colab": {
      "provenance": [],
      "authorship_tag": "ABX9TyNnh4KoQAd/ffvmZe5TIRT5",
      "include_colab_link": true
    },
    "kernelspec": {
      "name": "python3",
      "display_name": "Python 3"
    },
    "language_info": {
      "name": "python"
    }
  },
  "cells": [
    {
      "cell_type": "markdown",
      "metadata": {
        "id": "view-in-github",
        "colab_type": "text"
      },
      "source": [
        "<a href=\"https://colab.research.google.com/github/SkyRanger2010/DE2024_PY/blob/main/HomeWork%235.ipynb\" target=\"_parent\"><img src=\"https://colab.research.google.com/assets/colab-badge.svg\" alt=\"Open In Colab\"/></a>"
      ]
    },
    {
      "cell_type": "code",
      "execution_count": 18,
      "metadata": {
        "colab": {
          "base_uri": "https://localhost:8080/"
        },
        "id": "_U_Gg7CVKClB",
        "outputId": "aee38b03-a3d1-44df-8a9e-44adb1d4cbda"
      },
      "outputs": [
        {
          "output_type": "stream",
          "name": "stdout",
          "text": [
            "Общее время выполнения программы:0:00:02.099245\n",
            "Время потраченное на выполнение операции 1:0:00:00.041550\n",
            "Время потраченное на выполнение операции 2:0:00:00.024965\n",
            "Время потраченное на выполнение операции 3:0:00:00.022495\n"
          ]
        }
      ],
      "source": [
        "import threading\n",
        "import datetime\n",
        "\n",
        "result_dict={\"f1\":0,\"f2\":0,\"result\":0}\n",
        "time_dict={\"f1\":datetime.timedelta(0),\"f2\":datetime.timedelta(0),\"result\":datetime.timedelta(0)}\n",
        "x = 3.14\n",
        "iter_num = 10000\n",
        "\n",
        "def worker1():\n",
        "  global result_dict,time_dict,x\n",
        "  starttime = datetime.datetime.now()\n",
        "  f1 = x**2-x**2+x*4-x*5+x*x\n",
        "  result_dict[\"f1\"] = f1\n",
        "  time_dict[\"f1\"] += datetime.datetime.now() - starttime\n",
        "\n",
        "def worker2():\n",
        "  global result_dict,time_dict,x\n",
        "  starttime = datetime.datetime.now()\n",
        "  f2 = x*x\n",
        "  result_dict[\"f2\"] = f2\n",
        "  stoptime = datetime.datetime.now()\n",
        "  time_dict[\"f2\"] += stoptime - starttime\n",
        "\n",
        "def result():\n",
        "  global result_dict,time_dict,x\n",
        "  starttime = datetime.datetime.now()\n",
        "  result_dict[\"result\"] =  result_dict[\"f1\"] + result_dict[\"f2\"]\n",
        "  stoptime = datetime.datetime.now()\n",
        "  time_dict[\"result\"] += stoptime - starttime\n",
        "\n",
        "starttime = datetime.datetime.now()\n",
        "for i in range(iter_num):\n",
        "  t = threading.Thread(target=worker1)\n",
        "  t.start()\n",
        "  t2 = threading.Thread(target=worker2)\n",
        "  t2.start()\n",
        "  t.join()\n",
        "  t2.join()\n",
        "  result()\n",
        "\n",
        "print(f'Общее время выполнения программы:{datetime.datetime.now()-starttime}')\n",
        "print(f'Время потраченное на выполнение операции 1:{time_dict[\"f1\"]}')\n",
        "print(f'Время потраченное на выполнение операции 2:{time_dict[\"f2\"]}')\n",
        "print(f'Время потраченное на выполнение операции 3:{time_dict[\"result\"]}')\n"
      ]
    },
    {
      "cell_type": "code",
      "source": [
        "import threading\n",
        "import datetime\n",
        "\n",
        "result_dict={\"f1\":0,\"f2\":0,\"result\":0}\n",
        "time_dict={\"f1\":datetime.timedelta(0),\"f2\":datetime.timedelta(0),\"result\":datetime.timedelta(0)}\n",
        "x = 3.14\n",
        "iter_num = 100000\n",
        "\n",
        "def worker1():\n",
        "  global result_dict,time_dict,x\n",
        "  starttime = datetime.datetime.now()\n",
        "  f1 = x**2-x**2+x*4-x*5+x*x\n",
        "  result_dict[\"f1\"] = f1\n",
        "  time_dict[\"f1\"] += datetime.datetime.now() - starttime\n",
        "\n",
        "def worker2():\n",
        "  global result_dict,time_dict,x\n",
        "  starttime = datetime.datetime.now()\n",
        "  f2 = x*x\n",
        "  result_dict[\"f2\"] = f2\n",
        "  stoptime = datetime.datetime.now()\n",
        "  time_dict[\"f2\"] += stoptime - starttime\n",
        "\n",
        "def result():\n",
        "  global result_dict,time_dict,x\n",
        "  starttime = datetime.datetime.now()\n",
        "  result_dict[\"result\"] =  result_dict[\"f1\"] + result_dict[\"f2\"]\n",
        "  stoptime = datetime.datetime.now()\n",
        "  time_dict[\"result\"] += stoptime - starttime\n",
        "\n",
        "starttime = datetime.datetime.now()\n",
        "for i in range(iter_num):\n",
        "  t = threading.Thread(target=worker1)\n",
        "  t.start()\n",
        "  t2 = threading.Thread(target=worker2)\n",
        "  t2.start()\n",
        "  t.join()\n",
        "  t2.join()\n",
        "  result()\n",
        "\n",
        "print(f'Общее время выполнения программы:{datetime.datetime.now()-starttime}')\n",
        "print(f'Время потраченное на выполнение операции 1:{time_dict[\"f1\"]}')\n",
        "print(f'Время потраченное на выполнение операции 2:{time_dict[\"f2\"]}')\n",
        "print(f'Время потраченное на выполнение операции 3:{time_dict[\"result\"]}')\n"
      ],
      "metadata": {
        "colab": {
          "base_uri": "https://localhost:8080/"
        },
        "id": "NBHvmf7KYjX1",
        "outputId": "14e50665-d63b-41d0-f4c4-3fdbc561e3c8"
      },
      "execution_count": 19,
      "outputs": [
        {
          "output_type": "stream",
          "name": "stdout",
          "text": [
            "Общее время выполнения программы:0:00:21.103597\n",
            "Время потраченное на выполнение операции 1:0:00:00.406573\n",
            "Время потраченное на выполнение операции 2:0:00:00.231841\n",
            "Время потраченное на выполнение операции 3:0:00:00.203431\n"
          ]
        }
      ]
    }
  ]
}