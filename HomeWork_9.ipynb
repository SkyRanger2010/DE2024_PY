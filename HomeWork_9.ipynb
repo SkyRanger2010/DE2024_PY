{
  "nbformat": 4,
  "nbformat_minor": 0,
  "metadata": {
    "colab": {
      "provenance": [],
      "authorship_tag": "ABX9TyPkuRs1bXNBLBr9KOHQuAWx",
      "include_colab_link": true
    },
    "kernelspec": {
      "name": "python3",
      "display_name": "Python 3"
    },
    "language_info": {
      "name": "python"
    }
  },
  "cells": [
    {
      "cell_type": "markdown",
      "metadata": {
        "id": "view-in-github",
        "colab_type": "text"
      },
      "source": [
        "<a href=\"https://colab.research.google.com/github/SkyRanger2010/DE2024_PY/blob/main/HomeWork_9.ipynb\" target=\"_parent\"><img src=\"https://colab.research.google.com/assets/colab-badge.svg\" alt=\"Open In Colab\"/></a>"
      ]
    },
    {
      "cell_type": "code",
      "execution_count": 13,
      "metadata": {
        "colab": {
          "base_uri": "https://localhost:8080/"
        },
        "id": "rbDnasXtPP3b",
        "outputId": "70145fc8-3098-4023-f381-2043fcc3876d"
      },
      "outputs": [
        {
          "output_type": "stream",
          "name": "stdout",
          "text": [
            "Самое частое слово 'love' которое встречается 4 раза.\n"
          ]
        }
      ],
      "source": [
        "from pyspark.sql import SparkSession\n",
        "from pyspark.sql.functions import col, explode, split, lower, regexp_replace\n",
        "\n",
        "spark = SparkSession.builder \\\n",
        "    .appName(\"Movie Word Count with Preprocessing\") \\\n",
        "    .getOrCreate()\n",
        "\n",
        "df = spark.read.csv('movies.csv', header=True)\n",
        "\n",
        "words_df = df.select(\n",
        "    explode(\n",
        "        split(\n",
        "            regexp_replace(lower(col(\"Film\")), \"[^a-zA-Z0-9\\s]\", \"\"),\n",
        "            \"\\s+\"\n",
        "        )\n",
        "    ).alias(\"word\")\n",
        ")\n",
        "\n",
        "stop_words = set([\"the\", \"and\", \"a\", \"of\", \"to\", \"in\", \"is\", \"it\", \"you\", \"that\", \"for\", \"on\", \"with\", \"as\", \"this\", \"by\"])\n",
        "words_df = words_df.filter(~col(\"word\").isin(stop_words))\n",
        "\n",
        "word_counts = words_df.groupBy(\"word\").count()\n",
        "\n",
        "most_common_word = word_counts.orderBy(col(\"count\").desc()).first()\n",
        "\n",
        "print(f\"Самое частое слово '{most_common_word['word']}' которое встречается {most_common_word['count']} раза.\")\n",
        "\n",
        "spark.stop()"
      ]
    }
  ]
}