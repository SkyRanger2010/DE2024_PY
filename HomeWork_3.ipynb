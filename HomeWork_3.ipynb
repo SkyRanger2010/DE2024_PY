{
  "nbformat": 4,
  "nbformat_minor": 0,
  "metadata": {
    "colab": {
      "provenance": [],
      "authorship_tag": "ABX9TyPjTMWJBvzKoDQo9Oz9cLY1",
      "include_colab_link": true
    },
    "kernelspec": {
      "name": "python3",
      "display_name": "Python 3"
    },
    "language_info": {
      "name": "python"
    }
  },
  "cells": [
    {
      "cell_type": "markdown",
      "metadata": {
        "id": "view-in-github",
        "colab_type": "text"
      },
      "source": [
        "<a href=\"https://colab.research.google.com/github/SkyRanger2010/DE2024_PY/blob/main/HomeWork_3.ipynb\" target=\"_parent\"><img src=\"https://colab.research.google.com/assets/colab-badge.svg\" alt=\"Open In Colab\"/></a>"
      ]
    },
    {
      "cell_type": "markdown",
      "source": [
        "Нужно реализовать класс Account, который отражает абстракцию базового\n",
        "поведения банковского аккаунта:\n",
        "* создать банковский аккаунт с параметрами: имя; стартовый баланс с\n",
        "которым зарегистрирован аккаунт; история операций*;\n",
        "* реализовать два метода, которые позволяют положить деньги на счёт\n",
        "или снять деньги со счёта;\n",
        "* продумать, как можно хранить историю поступления или снятия\n",
        "денег, чтобы с ней было удобно работать*.\n",
        "\n",
        "*Задачи повышенной сложности на 9 и 10 баллов"
      ],
      "metadata": {
        "id": "Tz1DrZdSP36Q"
      }
    },
    {
      "cell_type": "code",
      "source": [
        "import datetime as dt\n",
        "class Account:\n",
        "\n",
        "    def __init__(self, name, initial_balance = 0): # Конструктор класса\n",
        "      self.name = name\n",
        "      self.history = {}\n",
        "      self.balance = initial_balance\n",
        "      if initial_balance != 0:\n",
        "        self.__add_hystory(initial_balance)\n",
        "\n",
        "    def make_deposit(self, sum = 0):\n",
        "        if sum < 0:\n",
        "          print(\"Сумма внесения не может быть отрицательной\")\n",
        "          return\n",
        "        self.balance += sum\n",
        "        self.__add_hystory(sum)\n",
        "\n",
        "    def make_withdrawal(self, sum = 0):\n",
        "        if sum < 0:\n",
        "          print(\"Сумма снятия не может быть отрицательной\")\n",
        "          return\n",
        "        self.balance -= sum\n",
        "        self.__add_hystory(-sum)\n",
        "\n",
        "    def show_history(self):\n",
        "        print(f\"\\n Иcтория операций по счету {self.name}\")\n",
        "        for rec in self.history.keys():\n",
        "           rec_dtdate= dt.datetime.strptime(self.history[rec][0], '%d-%m-%Y %H:%M:%S')\n",
        "           rec_date = rec_dtdate.date().strftime('%d/%m/%Y')\n",
        "           rec_time = rec_dtdate.time()\n",
        "           rec_sum = self.history[rec][1]\n",
        "           if rec_sum >= 0:\n",
        "              operation_text = \"внесено на счет: \"\n",
        "           else:\n",
        "              operation_text = \"снято со счета: \"\n",
        "           print(f\"\\n {rec}. {rec_date} в {rec_time} {operation_text} {abs(rec_sum)} RUR \")\n",
        "        print(f\"\\n Текущий балланс счета : {self.balance} RUR\")\n",
        "\n",
        "    def __add_hystory(self, sum):\n",
        "        rec_num = len(self.history) + 1\n",
        "        rec_date = dt.datetime.today().strftime('%d-%m-%Y %H:%M:%S')\n",
        "        self.history[rec_num] = [rec_date,sum]\n"
      ],
      "metadata": {
        "id": "lsT3E1tYQJgR"
      },
      "execution_count": 1,
      "outputs": []
    },
    {
      "cell_type": "code",
      "source": [
        "my = Account('Vasily', 100)\n",
        "my2 = Account('VasilySatantsev')\n",
        "print(my.name, my.balance)\n",
        "print(my2.name, my2.balance)"
      ],
      "metadata": {
        "colab": {
          "base_uri": "https://localhost:8080/"
        },
        "id": "lW-68mlNS5Ya",
        "outputId": "811d283e-bc1e-4830-9329-77ee04592aa9"
      },
      "execution_count": 2,
      "outputs": [
        {
          "output_type": "stream",
          "name": "stdout",
          "text": [
            "Vasily 100\n",
            "VasilySatantsev 0\n"
          ]
        }
      ]
    },
    {
      "cell_type": "code",
      "source": [
        "my.make_deposit(200)\n",
        "my.make_deposit(300)\n",
        "my.show_history()"
      ],
      "metadata": {
        "colab": {
          "base_uri": "https://localhost:8080/"
        },
        "id": "M2r0xexML_vq",
        "outputId": "01a76a5f-eab7-443b-cda1-66fc656b169c"
      },
      "execution_count": 3,
      "outputs": [
        {
          "output_type": "stream",
          "name": "stdout",
          "text": [
            "\n",
            " Иcтория операций по счету Vasily\n",
            "\n",
            " 1. 26/09/2024 в 11:36:42 внесено на счет:  100 RUR \n",
            "\n",
            " 2. 26/09/2024 в 11:36:44 внесено на счет:  200 RUR \n",
            "\n",
            " 3. 26/09/2024 в 11:36:44 внесено на счет:  300 RUR \n",
            "\n",
            " Текущий балланс счета : 600 RUR\n"
          ]
        }
      ]
    },
    {
      "cell_type": "code",
      "source": [
        "my2.make_withdrawal(150)\n",
        "my2.make_withdrawal(250)\n",
        "my2.show_history()"
      ],
      "metadata": {
        "colab": {
          "base_uri": "https://localhost:8080/"
        },
        "id": "xqpcxJpuEwLM",
        "outputId": "9b4812df-0ba2-473e-d0b8-0243c30fe445"
      },
      "execution_count": 4,
      "outputs": [
        {
          "output_type": "stream",
          "name": "stdout",
          "text": [
            "\n",
            " Иcтория операций по счету VasilySatantsev\n",
            "\n",
            " 1. 26/09/2024 в 11:36:52 снято со счета:  150 RUR \n",
            "\n",
            " 2. 26/09/2024 в 11:36:52 снято со счета:  250 RUR \n",
            "\n",
            " Текущий балланс счета : -400 RUR\n"
          ]
        }
      ]
    },
    {
      "cell_type": "code",
      "source": [
        "my.make_withdrawal(-100)"
      ],
      "metadata": {
        "colab": {
          "base_uri": "https://localhost:8080/"
        },
        "id": "HKOwSq3HUCwM",
        "outputId": "e36a1c45-a918-4040-ea90-485db841f31f"
      },
      "execution_count": 5,
      "outputs": [
        {
          "output_type": "stream",
          "name": "stdout",
          "text": [
            "Сумма снятия не может быть отрицательной\n"
          ]
        }
      ]
    },
    {
      "cell_type": "code",
      "source": [
        "my.make_deposit(-100)"
      ],
      "metadata": {
        "colab": {
          "base_uri": "https://localhost:8080/"
        },
        "id": "UbStnOQHUHKl",
        "outputId": "f5424f40-f9b4-4d25-840a-f6da5223eaf8"
      },
      "execution_count": 6,
      "outputs": [
        {
          "output_type": "stream",
          "name": "stdout",
          "text": [
            "Сумма внесения не может быть отрицательной\n"
          ]
        }
      ]
    }
  ]
}