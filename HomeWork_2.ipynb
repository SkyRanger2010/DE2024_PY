{
  "nbformat": 4,
  "nbformat_minor": 0,
  "metadata": {
    "colab": {
      "provenance": [],
      "toc_visible": true,
      "authorship_tag": "ABX9TyM3//rkajBk+FrloowDMxQY",
      "include_colab_link": true
    },
    "kernelspec": {
      "name": "python3",
      "display_name": "Python 3"
    },
    "language_info": {
      "name": "python"
    }
  },
  "cells": [
    {
      "cell_type": "markdown",
      "metadata": {
        "id": "view-in-github",
        "colab_type": "text"
      },
      "source": [
        "<a href=\"https://colab.research.google.com/github/SkyRanger2010/DE2024_PY/blob/main/HomeWork_2.ipynb\" target=\"_parent\"><img src=\"https://colab.research.google.com/assets/colab-badge.svg\" alt=\"Open In Colab\"/></a>"
      ]
    },
    {
      "cell_type": "code",
      "source": [
        "# Задание 1\n",
        "\n",
        "# Печатные газеты использовали свой формат дат для каждого выпуска. Для каждой\n",
        "# газеты из списка напишите формат указанной даты для перевода в объект datetime:\n",
        "\n",
        "# The Moscow Times - Wednesday, October 2, 2002\n",
        "# The Guardian - Friday, 11.10.13\n",
        "# Daily News - Thursday, 18 August 1977\n",
        "\n",
        "# Программа должна выводить на экран объекты типа datetime, соответствующие датам\n",
        "# в условии задачи\n",
        "\n",
        "from datetime import datetime  as dt\n",
        "\n",
        "str1 = \"The Moscow Times - Wednesday, October 2, 2002\"\n",
        "str2 = \"The Guardian - Friday, 11.10.13\"\n",
        "str3 = \"Daily News - Thursday, 18 August 1977\"\n",
        "\n",
        "date1 = dt.strptime(str1, \"The Moscow Times - %A, %B %d, %Y\")\n",
        "date2 = dt.strptime(str2, \"The Guardian - %A, %d.%m.%y\")\n",
        "date3 = dt.strptime(str3, \"Daily News - %A, %d %B %Y\")\n",
        "[date1, date2, date3]\n"
      ],
      "metadata": {
        "id": "gYTU7ykSIvg8",
        "colab": {
          "base_uri": "https://localhost:8080/"
        },
        "outputId": "d56158c3-d06f-4c0f-ddb8-18176d5af6b5"
      },
      "execution_count": 17,
      "outputs": [
        {
          "output_type": "execute_result",
          "data": {
            "text/plain": [
              "[datetime.datetime(2002, 10, 2, 0, 0),\n",
              " datetime.datetime(2013, 10, 11, 0, 0),\n",
              " datetime.datetime(1977, 8, 18, 0, 0)]"
            ]
          },
          "metadata": {},
          "execution_count": 17
        }
      ]
    },
    {
      "cell_type": "code",
      "source": [
        "# Задание 2 (не обязательное)\n",
        "\n",
        "# Напишите функцию date_range, которая возвращает список дат за период от start_date\n",
        "# до end_date. Даты должны вводиться в формате YYYY-MM-DD. В случае неверного\n",
        "# формата или при start_date > end_date должен возвращаться пустой список.\n",
        "\n",
        "# Примеры работы программы:\n",
        "# date_range(‘2022-01-01’, ‘2022-01-03’)\n",
        "# [‘2022-01-01’, ‘2022-01-02’, ‘2022-01-03’]\n",
        "\n",
        "import datetime as dt\n",
        "\n",
        "def data_range (start_date, end_date):\n",
        "  try:\n",
        "    start_dt = dt.datetime.strptime(start_date, \"%Y-%m-%d\")\n",
        "    end_dt = dt.datetime.strptime(end_date, \"%Y-%m-%d\")\n",
        "  except:\n",
        "    return []\n",
        "  if start_dt > end_dt:\n",
        "    return []\n",
        "  return [(start_dt + dt.timedelta(days=x)).strftime('%Y-%m-%d') for x in range((end_dt-start_dt).days + 1)]\n",
        "\n",
        "\n",
        "\n",
        "data_range ('2022-01-01','2022-01-03')"
      ],
      "metadata": {
        "colab": {
          "base_uri": "https://localhost:8080/"
        },
        "id": "TQtjfJ05ORDf",
        "outputId": "6d8b8bc2-ceba-432d-da4c-552d041d0723"
      },
      "execution_count": 39,
      "outputs": [
        {
          "output_type": "execute_result",
          "data": {
            "text/plain": [
              "['2022-01-01', '2022-01-02', '2022-01-03']"
            ]
          },
          "metadata": {},
          "execution_count": 39
        }
      ]
    }
  ]
}