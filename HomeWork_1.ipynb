{
  "nbformat": 4,
  "nbformat_minor": 0,
  "metadata": {
    "colab": {
      "provenance": [],
      "authorship_tag": "ABX9TyMootE78xV12nHlWgjYdyqj",
      "include_colab_link": true
    },
    "kernelspec": {
      "name": "python3",
      "display_name": "Python 3"
    },
    "language_info": {
      "name": "python"
    }
  },
  "cells": [
    {
      "cell_type": "markdown",
      "metadata": {
        "id": "view-in-github",
        "colab_type": "text"
      },
      "source": [
        "<a href=\"https://colab.research.google.com/github/SkyRanger2010/DE2024_PY/blob/main/HomeWork_1.ipynb\" target=\"_parent\"><img src=\"https://colab.research.google.com/assets/colab-badge.svg\" alt=\"Open In Colab\"/></a>"
      ]
    },
    {
      "cell_type": "code",
      "execution_count": 44,
      "metadata": {
        "id": "tWYTsWw85ImG"
      },
      "outputs": [],
      "source": [
        "import json, csv\n",
        "purchases = {}\n",
        "i = 0\n",
        "# Задание 1 Переведите содержимое файла purchase_log.txt в словарь purchases вида:\n",
        "# {'1840e0b9d4': 'Продукты', ...}\n",
        "\n",
        "with open(file='purchase_log.txt', mode='r') as file:\n",
        "  for line in file:\n",
        "    if i == 0 :\n",
        "      i += 1\n",
        "      continue\n",
        "    strdict = json.loads(line)\n",
        "    userid = strdict.get(\"user_id\")\n",
        "    category = strdict.get(\"category\")\n",
        "    purchases[userid] = category\n",
        "# Результат задания в словаре purchases\n",
        "\n",
        "# Задание 2\n",
        "# Для каждого user_id в файле visit_log.csv определите третий столбец с\n",
        "# категорией покупки. Если покупка была, сам файл visit_log.csv изменять не\n",
        "# надо.\n",
        "# Запишите в файл funnel.csv визиты из файла visit_log.csv, в которых были\n",
        "# покупки с указанием категории.\n",
        "# Учтите условия для данных:\n",
        "#  ● содержимое purchase_log.txt помещается в оперативную память\n",
        "#     компьютера;\n",
        "#  ● содержимое visit_log.csv — нет, используйте только построчную\n",
        "#     обработку этого файла.\n",
        "\n",
        "# Примеры работы программы при выводе первых трёх строк файла funnel.csv:\n",
        "#   user_id,source,category\n",
        "#   1840e0b9d4,other,Продукты\n",
        "#   4e4f90fcfb,context,Электроника\n",
        "\n",
        "with open('funnel.csv','w') as output_file:\n",
        "  file_writer = csv.writer(output_file, delimiter = \",\", lineterminator=\"\\r\")\n",
        "  with open('visit_log.csv','r') as input_file:\n",
        "    visits_reader = csv.reader(input_file)\n",
        "    count = 0\n",
        "    for line in visits_reader:\n",
        "      if count == 0:\n",
        "        file_writer.writerow([line[0], line[1], \"category\"])\n",
        "        count += 1\n",
        "        continue\n",
        "      userid = line[0]\n",
        "      source = line[1]\n",
        "      if userid in purchases:\n",
        "        file_writer.writerow([userid, source, purchases[userid]])\n",
        "# Результат задания в файле funnel.csv"
      ]
    },
    {
      "cell_type": "markdown",
      "source": [],
      "metadata": {
        "id": "TadEUhIIRCFx"
      }
    }
  ]
}