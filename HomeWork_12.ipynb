{
 "cells": [
  {
   "metadata": {
    "ExecuteTime": {
     "end_time": "2024-12-17T14:57:42.447908Z",
     "start_time": "2024-12-17T14:57:42.409535Z"
    }
   },
   "cell_type": "code",
   "source": [
    "from confluent_kafka import Producer, KafkaError\n",
    "import json\n",
    "import random\n",
    "from datetime import datetime, timedelta\n",
    "\n",
    "# Конфигурация Kafka Producer\n",
    "producer_config = {\n",
    "    'bootstrap.servers': 'localhost:9092',  # Адрес брокера Kafka\n",
    "    'client.id': 'transaction-producer'\n",
    "}\n",
    "\n",
    "producer = Producer(producer_config)\n",
    "\n",
    "# Функция для генерации случайной транзакции\n",
    "def generate_transaction(user_id):\n",
    "    transaction_id = random.randint(1000, 9999)\n",
    "    amount = round(random.uniform(50, 2000), 2)\n",
    "    timestamp = datetime.now() - timedelta(\n",
    "        days=random.randint(0, 30),\n",
    "        hours=random.randint(0, 23),\n",
    "        minutes=random.randint(0, 59)\n",
    "    )\n",
    "    location = random.choice([\"New York\", \"Los Angeles\", \"Chicago\", \"Houston\", \"Phoenix\"])\n",
    "\n",
    "    return {\n",
    "        \"transaction_id\": transaction_id,\n",
    "        \"user_id\": user_id,\n",
    "        \"amount\": amount,\n",
    "        \"timestamp\": timestamp.isoformat(),\n",
    "        \"location\": location\n",
    "    }\n",
    "\n",
    "# Генерация и отправка транзакций\n",
    "topic = 'transactions'\n",
    "\n",
    "for user_id in range(1, 101):  # Для 100 пользователей\n",
    "    for _ in range(10):  # Каждому пользователю по 10 транзакций\n",
    "        transaction = generate_transaction(user_id)\n",
    "        producer.produce(topic, key=str(user_id), value=json.dumps(transaction))\n",
    "        # print(f\"Отправлена транзакция: {transaction}\")\n",
    "\n",
    "producer.flush()\n"
   ],
   "outputs": [
    {
     "data": {
      "text/plain": [
       "0"
      ]
     },
     "execution_count": 24,
     "metadata": {},
     "output_type": "execute_result"
    }
   ],
   "execution_count": 24
  },
  {
   "metadata": {
    "ExecuteTime": {
     "end_time": "2024-12-17T14:57:42.481458Z",
     "start_time": "2024-12-17T14:57:42.463825Z"
    }
   },
   "cell_type": "code",
   "source": [
    "import sqlite3\n",
    "\n",
    "# Создаем базу данных и таблицу клиентов\n",
    "conn = sqlite3.connect('banking_app.db')\n",
    "cursor = conn.cursor()\n",
    "\n",
    "# Создание таблицы клиентов\n",
    "cursor.execute('''\n",
    "CREATE TABLE IF NOT EXISTS clients (\n",
    "    id INTEGER PRIMARY KEY AUTOINCREMENT,\n",
    "    name TEXT NOT NULL,\n",
    "    email TEXT NOT NULL,\n",
    "    phone TEXT NOT NULL\n",
    ")\n",
    "''')\n",
    "\n",
    "# Генерация данных клиентов\n",
    "names = [\"Alice\", \"Bob\", \"Charlie\", \"David\", \"Eve\"]\n",
    "for i in range(1, 101):\n",
    "    cursor.execute('''\n",
    "    INSERT INTO clients (name, email, phone) VALUES (?, ?, ?)\n",
    "    ''', (random.choice(names), f'user{i}@example.com', f'123-456-789{i % 10}'))\n",
    "\n",
    "conn.commit()\n",
    "conn.close()\n"
   ],
   "outputs": [],
   "execution_count": 25
  },
  {
   "metadata": {
    "ExecuteTime": {
     "end_time": "2024-12-17T14:57:55.702917Z",
     "start_time": "2024-12-17T14:57:42.493961Z"
    }
   },
   "cell_type": "code",
   "source": [
    "from confluent_kafka import Consumer\n",
    "import sqlite3\n",
    "import json\n",
    "\n",
    "# Конфигурация Kafka Consumer\n",
    "consumer_config = {\n",
    "    'bootstrap.servers': 'localhost:9092',  # Адрес брокера Kafka\n",
    "    'group.id': 'transaction-group',\n",
    "    'auto.offset.reset': 'earliest'  # Чтение с самого начала\n",
    "}\n",
    "\n",
    "consumer = Consumer(consumer_config)\n",
    "consumer.subscribe(['transactions'])\n",
    "\n",
    "# Проверка на подозрительность: сумма > 1975\n",
    "def is_suspicious(transaction):\n",
    "    return transaction['amount'] > 1975\n",
    "\n",
    "# Подключение к базе данных\n",
    "conn = sqlite3.connect('banking_app.db')\n",
    "cursor = conn.cursor()\n",
    "\n",
    "suspicious_producer = Producer(producer_config)\n",
    "\n",
    "# Обработка сообщений и отправка подозрительных транзакций\n",
    "def send_suspicious_transaction(transaction):\n",
    "    suspicious_producer.produce('suspicious_transactions', key=str(transaction['user_id']), value=json.dumps(transaction))\n",
    "    suspicious_producer.flush()\n",
    "    print(f\"Подозрительная транзакция отправлена в 'suspicious_transactions': {transaction}\")\n",
    "\n",
    "# Обработка сообщений\n",
    "try:\n",
    "    while True:\n",
    "        msg = consumer.poll(1.0)  # Ожидание сообщений 1 секунда\n",
    "\n",
    "        if msg is None:\n",
    "            continue\n",
    "        if msg.error():\n",
    "            if msg.error().code() == KafkaError.PARTITION_EOF:\n",
    "                continue\n",
    "            else:\n",
    "                print(f\"Ошибка Kafka: {msg.error()}\")\n",
    "                break\n",
    "\n",
    "        # Десериализация сообщения\n",
    "        transaction = json.loads(msg.value().decode('utf-8'))\n",
    "        user_id = transaction['user_id']\n",
    "\n",
    "        # Поиск клиента в базе данных\n",
    "        cursor.execute('SELECT * FROM clients WHERE id = ?', (user_id,))\n",
    "        client = cursor.fetchone()\n",
    "\n",
    "        # Проверка на подозрительность\n",
    "        if client and is_suspicious(transaction):\n",
    "            # print(f\"Обнаружена подозрительная транзакция: {transaction} для клиента: {client}\")\n",
    "            send_suspicious_transaction(transaction)\n",
    "\n",
    "except KeyboardInterrupt:\n",
    "    print(\"Остановка консюмера.\")\n",
    "finally:\n",
    "    consumer.close()\n",
    "    conn.close()\n"
   ],
   "outputs": [
    {
     "name": "stdout",
     "output_type": "stream",
     "text": [
      "Подозрительная транзакция отправлена в 'suspicious_transactions': {'transaction_id': 5258, 'user_id': 5, 'amount': 1977.52, 'timestamp': '2024-12-11T10:10:42.417433', 'location': 'Phoenix'}\n",
      "Подозрительная транзакция отправлена в 'suspicious_transactions': {'transaction_id': 9659, 'user_id': 32, 'amount': 1982.01, 'timestamp': '2024-11-19T20:52:42.427443', 'location': 'New York'}\n",
      "Подозрительная транзакция отправлена в 'suspicious_transactions': {'transaction_id': 7718, 'user_id': 37, 'amount': 1984.86, 'timestamp': '2024-12-16T13:27:42.428581', 'location': 'Los Angeles'}\n",
      "Подозрительная транзакция отправлена в 'suspicious_transactions': {'transaction_id': 6825, 'user_id': 50, 'amount': 1988.53, 'timestamp': '2024-11-18T17:33:42.431829', 'location': 'Phoenix'}\n",
      "Подозрительная транзакция отправлена в 'suspicious_transactions': {'transaction_id': 4040, 'user_id': 56, 'amount': 1985.21, 'timestamp': '2024-12-12T08:25:42.433006', 'location': 'New York'}\n",
      "Подозрительная транзакция отправлена в 'suspicious_transactions': {'transaction_id': 3333, 'user_id': 61, 'amount': 1990.63, 'timestamp': '2024-12-05T20:57:42.433618', 'location': 'Chicago'}\n",
      "Подозрительная транзакция отправлена в 'suspicious_transactions': {'transaction_id': 9605, 'user_id': 69, 'amount': 1997.04, 'timestamp': '2024-11-23T11:19:42.435580', 'location': 'New York'}\n",
      "Подозрительная транзакция отправлена в 'suspicious_transactions': {'transaction_id': 8491, 'user_id': 72, 'amount': 1980.68, 'timestamp': '2024-11-17T06:13:42.436704', 'location': 'Houston'}\n",
      "Подозрительная транзакция отправлена в 'suspicious_transactions': {'transaction_id': 2322, 'user_id': 75, 'amount': 1991.68, 'timestamp': '2024-12-02T11:54:42.437304', 'location': 'Houston'}\n",
      "Подозрительная транзакция отправлена в 'suspicious_transactions': {'transaction_id': 1433, 'user_id': 76, 'amount': 1990.78, 'timestamp': '2024-12-16T19:31:42.437304', 'location': 'Houston'}\n",
      "Подозрительная транзакция отправлена в 'suspicious_transactions': {'transaction_id': 6287, 'user_id': 90, 'amount': 1982.2, 'timestamp': '2024-11-19T22:34:42.439455', 'location': 'New York'}\n",
      "Подозрительная транзакция отправлена в 'suspicious_transactions': {'transaction_id': 1449, 'user_id': 93, 'amount': 1995.36, 'timestamp': '2024-11-27T16:26:42.439455', 'location': 'Houston'}\n",
      "Подозрительная транзакция отправлена в 'suspicious_transactions': {'transaction_id': 1521, 'user_id': 99, 'amount': 1986.75, 'timestamp': '2024-12-16T04:08:42.441832', 'location': 'Phoenix'}\n",
      "Остановка консюмера.\n"
     ]
    }
   ],
   "execution_count": 26
  }
 ],
 "metadata": {
  "kernelspec": {
   "display_name": "Python 3",
   "language": "python",
   "name": "python3"
  },
  "language_info": {
   "codemirror_mode": {
    "name": "ipython",
    "version": 3
   },
   "file_extension": ".py",
   "mimetype": "text/x-python",
   "name": "python",
   "nbconvert_exporter": "python",
   "pygments_lexer": "ipython3",
   "version": "3.9.6"
  },
  "orig_nbformat": 4
 },
 "nbformat": 4,
 "nbformat_minor": 2
}
