{
 "cells": [
  {
   "metadata": {
    "ExecuteTime": {
     "end_time": "2024-12-17T15:08:32.282906Z",
     "start_time": "2024-12-17T15:08:32.242259Z"
    }
   },
   "cell_type": "code",
   "source": [
    "from confluent_kafka import Producer, KafkaError\n",
    "import json\n",
    "import random\n",
    "from datetime import datetime, timedelta\n",
    "\n",
    "# Конфигурация Kafka Producer\n",
    "producer_config = {\n",
    "    'bootstrap.servers': 'localhost:9092',  # Адрес брокера Kafka\n",
    "    'client.id': 'transaction-producer'\n",
    "}\n",
    "\n",
    "producer = Producer(producer_config)\n",
    "\n",
    "# Функция для генерации случайной транзакции\n",
    "def generate_transaction(user_id):\n",
    "    transaction_id = random.randint(1000, 9999)\n",
    "    amount = round(random.uniform(50, 2000), 2)\n",
    "    timestamp = datetime.now() - timedelta(\n",
    "        days=random.randint(0, 30),\n",
    "        hours=random.randint(0, 23),\n",
    "        minutes=random.randint(0, 59)\n",
    "    )\n",
    "    location = random.choice([\"New York\", \"Los Angeles\", \"Chicago\", \"Houston\", \"Phoenix\"])\n",
    "\n",
    "    return {\n",
    "        \"transaction_id\": transaction_id,\n",
    "        \"user_id\": user_id,\n",
    "        \"amount\": amount,\n",
    "        \"timestamp\": timestamp.isoformat(),\n",
    "        \"location\": location\n",
    "    }\n",
    "\n",
    "# Генерация и отправка транзакций\n",
    "topic = 'transactions'\n",
    "\n",
    "for user_id in range(1, 101):  # Для 100 пользователей\n",
    "    for _ in range(10):  # Каждому пользователю по 10 транзакций\n",
    "        transaction = generate_transaction(user_id)\n",
    "        producer.produce(topic, key=str(user_id), value=json.dumps(transaction))\n",
    "        # print(f\"Отправлена транзакция: {transaction}\")\n",
    "\n",
    "producer.flush()\n"
   ],
   "outputs": [
    {
     "data": {
      "text/plain": [
       "0"
      ]
     },
     "execution_count": 30,
     "metadata": {},
     "output_type": "execute_result"
    }
   ],
   "execution_count": 30
  },
  {
   "metadata": {
    "ExecuteTime": {
     "end_time": "2024-12-17T15:08:32.386559Z",
     "start_time": "2024-12-17T15:08:32.365148Z"
    }
   },
   "cell_type": "code",
   "source": [
    "import sqlite3\n",
    "\n",
    "# Создаем базу данных и таблицу клиентов\n",
    "conn = sqlite3.connect('banking_app.db')\n",
    "cursor = conn.cursor()\n",
    "\n",
    "# Создание таблицы клиентов\n",
    "cursor.execute('''\n",
    "CREATE TABLE IF NOT EXISTS clients (\n",
    "    id INTEGER PRIMARY KEY AUTOINCREMENT,\n",
    "    name TEXT NOT NULL,\n",
    "    email TEXT NOT NULL,\n",
    "    phone TEXT NOT NULL\n",
    ")\n",
    "''')\n",
    "\n",
    "# Генерация данных клиентов\n",
    "names = [\"Alice\", \"Bob\", \"Charlie\", \"David\", \"Eve\"]\n",
    "for i in range(1, 101):\n",
    "    cursor.execute('''\n",
    "    INSERT INTO clients (name, email, phone) VALUES (?, ?, ?)\n",
    "    ''', (random.choice(names), f'user{i}@example.com', f'123-456-789{i % 10}'))\n",
    "\n",
    "conn.commit()\n",
    "conn.close()\n"
   ],
   "outputs": [],
   "execution_count": 31
  },
  {
   "metadata": {
    "ExecuteTime": {
     "end_time": "2024-12-17T15:08:41.575183Z",
     "start_time": "2024-12-17T15:08:32.415994Z"
    }
   },
   "cell_type": "code",
   "source": [
    "from confluent_kafka import Consumer\n",
    "import sqlite3\n",
    "import json\n",
    "\n",
    "# Конфигурация Kafka Consumer\n",
    "consumer_config = {\n",
    "    'bootstrap.servers': 'localhost:9092',  # Адрес брокера Kafka\n",
    "    'group.id': 'transaction-group',\n",
    "    'auto.offset.reset': 'earliest'  # Чтение с самого начала\n",
    "}\n",
    "\n",
    "consumer = Consumer(consumer_config)\n",
    "consumer.subscribe(['transactions'])\n",
    "\n",
    "# Проверка на подозрительность: сумма > 1975\n",
    "def is_suspicious(transaction):\n",
    "    return transaction['amount'] > 1975\n",
    "\n",
    "# Подключение к базе данных\n",
    "conn = sqlite3.connect('banking_app.db')\n",
    "cursor = conn.cursor()\n",
    "\n",
    "suspicious_producer = Producer(producer_config)\n",
    "\n",
    "# Обработка сообщений и отправка подозрительных транзакций\n",
    "def send_suspicious_transaction(transaction):\n",
    "    suspicious_producer.produce('suspicious_transactions', key=str(transaction['user_id']), value=json.dumps(transaction))\n",
    "    suspicious_producer.flush()\n",
    "    print(f\"Подозрительная транзакция отправлена в 'suspicious_transactions': {transaction}\")\n",
    "\n",
    "# Обработка сообщений\n",
    "try:\n",
    "    while True:\n",
    "        msg = consumer.poll(1.0)  # Ожидание сообщений 1 секунда\n",
    "\n",
    "        if msg is None:\n",
    "            continue\n",
    "        if msg.error():\n",
    "            if msg.error().code() == KafkaError.PARTITION_EOF:\n",
    "                continue\n",
    "            else:\n",
    "                print(f\"Ошибка Kafka: {msg.error()}\")\n",
    "                break\n",
    "\n",
    "        # Десериализация сообщения\n",
    "        transaction = json.loads(msg.value().decode('utf-8'))\n",
    "        user_id = transaction['user_id']\n",
    "\n",
    "        # Поиск клиента в базе данных\n",
    "        cursor.execute('SELECT * FROM clients WHERE id = ?', (user_id,))\n",
    "        client = cursor.fetchone()\n",
    "\n",
    "        # Проверка на подозрительность\n",
    "        if client and is_suspicious(transaction):\n",
    "            # print(f\"Обнаружена подозрительная транзакция: {transaction} для клиента: {client}\")\n",
    "            send_suspicious_transaction(transaction)\n",
    "\n",
    "except KeyboardInterrupt:\n",
    "    print(\"Остановка консюмера.\")\n",
    "finally:\n",
    "    consumer.close()\n",
    "    conn.close()\n"
   ],
   "outputs": [
    {
     "name": "stdout",
     "output_type": "stream",
     "text": [
      "Подозрительная транзакция отправлена в 'suspicious_transactions': {'transaction_id': 7064, 'user_id': 17, 'amount': 1987.28, 'timestamp': '2024-11-19T13:36:32.257989', 'location': 'Houston'}\n",
      "Подозрительная транзакция отправлена в 'suspicious_transactions': {'transaction_id': 7118, 'user_id': 17, 'amount': 1976.16, 'timestamp': '2024-12-05T13:25:32.257989', 'location': 'Houston'}\n",
      "Подозрительная транзакция отправлена в 'suspicious_transactions': {'transaction_id': 7070, 'user_id': 20, 'amount': 1987.82, 'timestamp': '2024-12-11T19:52:32.258494', 'location': 'New York'}\n",
      "Подозрительная транзакция отправлена в 'suspicious_transactions': {'transaction_id': 1328, 'user_id': 30, 'amount': 1978.11, 'timestamp': '2024-12-12T01:31:32.261278', 'location': 'New York'}\n",
      "Подозрительная транзакция отправлена в 'suspicious_transactions': {'transaction_id': 2746, 'user_id': 34, 'amount': 1987.6, 'timestamp': '2024-11-29T01:19:32.261784', 'location': 'New York'}\n",
      "Подозрительная транзакция отправлена в 'suspicious_transactions': {'transaction_id': 7424, 'user_id': 36, 'amount': 1994.63, 'timestamp': '2024-12-04T12:12:32.263253', 'location': 'Chicago'}\n",
      "Подозрительная транзакция отправлена в 'suspicious_transactions': {'transaction_id': 3940, 'user_id': 42, 'amount': 1980.59, 'timestamp': '2024-12-11T15:09:32.265119', 'location': 'New York'}\n",
      "Подозрительная транзакция отправлена в 'suspicious_transactions': {'transaction_id': 4391, 'user_id': 43, 'amount': 1982.48, 'timestamp': '2024-12-12T00:45:32.265119', 'location': 'Phoenix'}\n",
      "Подозрительная транзакция отправлена в 'suspicious_transactions': {'transaction_id': 8994, 'user_id': 72, 'amount': 1993.17, 'timestamp': '2024-12-01T03:01:32.270056', 'location': 'New York'}\n",
      "Подозрительная транзакция отправлена в 'suspicious_transactions': {'transaction_id': 8176, 'user_id': 91, 'amount': 1989.14, 'timestamp': '2024-11-23T19:32:32.275321', 'location': 'New York'}\n",
      "Остановка консюмера.\n"
     ]
    }
   ],
   "execution_count": 32
  }
 ],
 "metadata": {
  "kernelspec": {
   "display_name": "Python 3",
   "language": "python",
   "name": "python3"
  },
  "language_info": {
   "codemirror_mode": {
    "name": "ipython",
    "version": 3
   },
   "file_extension": ".py",
   "mimetype": "text/x-python",
   "name": "python",
   "nbconvert_exporter": "python",
   "pygments_lexer": "ipython3",
   "version": "3.9.6"
  },
  "orig_nbformat": 4
 },
 "nbformat": 4,
 "nbformat_minor": 2
}
