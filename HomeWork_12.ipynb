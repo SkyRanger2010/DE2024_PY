{
 "cells": [
  {
   "metadata": {
    "ExecuteTime": {
     "end_time": "2024-12-17T15:02:19.471100Z",
     "start_time": "2024-12-17T15:02:19.419911Z"
    }
   },
   "cell_type": "code",
   "source": [
    "from confluent_kafka import Producer, KafkaError\n",
    "import json\n",
    "import random\n",
    "from datetime import datetime, timedelta\n",
    "\n",
    "# Конфигурация Kafka Producer\n",
    "producer_config = {\n",
    "    'bootstrap.servers': 'localhost:9092',  # Адрес брокера Kafka\n",
    "    'client.id': 'transaction-producer'\n",
    "}\n",
    "\n",
    "producer = Producer(producer_config)\n",
    "\n",
    "# Функция для генерации случайной транзакции\n",
    "def generate_transaction(user_id):\n",
    "    transaction_id = random.randint(1000, 9999)\n",
    "    amount = round(random.uniform(50, 2000), 2)\n",
    "    timestamp = datetime.now() - timedelta(\n",
    "        days=random.randint(0, 30),\n",
    "        hours=random.randint(0, 23),\n",
    "        minutes=random.randint(0, 59)\n",
    "    )\n",
    "    location = random.choice([\"New York\", \"Los Angeles\", \"Chicago\", \"Houston\", \"Phoenix\"])\n",
    "\n",
    "    return {\n",
    "        \"transaction_id\": transaction_id,\n",
    "        \"user_id\": user_id,\n",
    "        \"amount\": amount,\n",
    "        \"timestamp\": timestamp.isoformat(),\n",
    "        \"location\": location\n",
    "    }\n",
    "\n",
    "# Генерация и отправка транзакций\n",
    "topic = 'transactions'\n",
    "\n",
    "for user_id in range(1, 101):  # Для 100 пользователей\n",
    "    for _ in range(10):  # Каждому пользователю по 10 транзакций\n",
    "        transaction = generate_transaction(user_id)\n",
    "        producer.produce(topic, key=str(user_id), value=json.dumps(transaction))\n",
    "        # print(f\"Отправлена транзакция: {transaction}\")\n",
    "\n",
    "producer.flush()\n"
   ],
   "outputs": [
    {
     "data": {
      "text/plain": [
       "0"
      ]
     },
     "execution_count": 27,
     "metadata": {},
     "output_type": "execute_result"
    }
   ],
   "execution_count": 27
  },
  {
   "metadata": {
    "ExecuteTime": {
     "end_time": "2024-12-17T15:02:19.497390Z",
     "start_time": "2024-12-17T15:02:19.478539Z"
    }
   },
   "cell_type": "code",
   "source": [
    "import sqlite3\n",
    "\n",
    "# Создаем базу данных и таблицу клиентов\n",
    "conn = sqlite3.connect('banking_app.db')\n",
    "cursor = conn.cursor()\n",
    "\n",
    "# Создание таблицы клиентов\n",
    "cursor.execute('''\n",
    "CREATE TABLE IF NOT EXISTS clients (\n",
    "    id INTEGER PRIMARY KEY AUTOINCREMENT,\n",
    "    name TEXT NOT NULL,\n",
    "    email TEXT NOT NULL,\n",
    "    phone TEXT NOT NULL\n",
    ")\n",
    "''')\n",
    "\n",
    "# Генерация данных клиентов\n",
    "names = [\"Alice\", \"Bob\", \"Charlie\", \"David\", \"Eve\"]\n",
    "for i in range(1, 101):\n",
    "    cursor.execute('''\n",
    "    INSERT INTO clients (name, email, phone) VALUES (?, ?, ?)\n",
    "    ''', (random.choice(names), f'user{i}@example.com', f'123-456-789{i % 10}'))\n",
    "\n",
    "conn.commit()\n",
    "conn.close()\n"
   ],
   "outputs": [],
   "execution_count": 28
  },
  {
   "metadata": {
    "ExecuteTime": {
     "end_time": "2024-12-17T15:02:27.707200Z",
     "start_time": "2024-12-17T15:02:19.507728Z"
    }
   },
   "cell_type": "code",
   "source": [
    "from confluent_kafka import Consumer\n",
    "import sqlite3\n",
    "import json\n",
    "\n",
    "# Конфигурация Kafka Consumer\n",
    "consumer_config = {\n",
    "    'bootstrap.servers': 'localhost:9092',  # Адрес брокера Kafka\n",
    "    'group.id': 'transaction-group',\n",
    "    'auto.offset.reset': 'earliest'  # Чтение с самого начала\n",
    "}\n",
    "\n",
    "consumer = Consumer(consumer_config)\n",
    "consumer.subscribe(['transactions'])\n",
    "\n",
    "# Проверка на подозрительность: сумма > 1975\n",
    "def is_suspicious(transaction):\n",
    "    return transaction['amount'] > 1975\n",
    "\n",
    "# Подключение к базе данных\n",
    "conn = sqlite3.connect('banking_app.db')\n",
    "cursor = conn.cursor()\n",
    "\n",
    "suspicious_producer = Producer(producer_config)\n",
    "\n",
    "# Обработка сообщений и отправка подозрительных транзакций\n",
    "def send_suspicious_transaction(transaction):\n",
    "    suspicious_producer.produce('suspicious_transactions', key=str(transaction['user_id']), value=json.dumps(transaction))\n",
    "    suspicious_producer.flush()\n",
    "    print(f\"Подозрительная транзакция отправлена в 'suspicious_transactions': {transaction}\")\n",
    "\n",
    "# Обработка сообщений\n",
    "try:\n",
    "    while True:\n",
    "        msg = consumer.poll(1.0)  # Ожидание сообщений 1 секунда\n",
    "\n",
    "        if msg is None:\n",
    "            continue\n",
    "        if msg.error():\n",
    "            if msg.error().code() == KafkaError.PARTITION_EOF:\n",
    "                continue\n",
    "            else:\n",
    "                print(f\"Ошибка Kafka: {msg.error()}\")\n",
    "                break\n",
    "\n",
    "        # Десериализация сообщения\n",
    "        transaction = json.loads(msg.value().decode('utf-8'))\n",
    "        user_id = transaction['user_id']\n",
    "\n",
    "        # Поиск клиента в базе данных\n",
    "        cursor.execute('SELECT * FROM clients WHERE id = ?', (user_id,))\n",
    "        client = cursor.fetchone()\n",
    "\n",
    "        # Проверка на подозрительность\n",
    "        if client and is_suspicious(transaction):\n",
    "            # print(f\"Обнаружена подозрительная транзакция: {transaction} для клиента: {client}\")\n",
    "            send_suspicious_transaction(transaction)\n",
    "\n",
    "except KeyboardInterrupt:\n",
    "    print(\"Остановка консюмера.\")\n",
    "finally:\n",
    "    consumer.close()\n",
    "    conn.close()\n"
   ],
   "outputs": [
    {
     "name": "stdout",
     "output_type": "stream",
     "text": [
      "Подозрительная транзакция отправлена в 'suspicious_transactions': {'transaction_id': 2495, 'user_id': 17, 'amount': 1978.46, 'timestamp': '2024-11-24T11:34:19.434898', 'location': 'Phoenix'}\n",
      "Подозрительная транзакция отправлена в 'suspicious_transactions': {'transaction_id': 2197, 'user_id': 26, 'amount': 1996.21, 'timestamp': '2024-11-19T11:23:19.438632', 'location': 'Houston'}\n",
      "Подозрительная транзакция отправлена в 'suspicious_transactions': {'transaction_id': 6646, 'user_id': 27, 'amount': 1977.01, 'timestamp': '2024-11-18T18:20:19.438632', 'location': 'New York'}\n",
      "Подозрительная транзакция отправлена в 'suspicious_transactions': {'transaction_id': 2380, 'user_id': 58, 'amount': 1983.46, 'timestamp': '2024-11-23T09:49:19.449163', 'location': 'Los Angeles'}\n",
      "Подозрительная транзакция отправлена в 'suspicious_transactions': {'transaction_id': 8761, 'user_id': 62, 'amount': 1983.92, 'timestamp': '2024-12-07T17:29:19.449672', 'location': 'Los Angeles'}\n",
      "Подозрительная транзакция отправлена в 'suspicious_transactions': {'transaction_id': 9187, 'user_id': 98, 'amount': 1993.67, 'timestamp': '2024-12-10T18:43:19.463247', 'location': 'Phoenix'}\n",
      "Подозрительная транзакция отправлена в 'suspicious_transactions': {'transaction_id': 4001, 'user_id': 100, 'amount': 1999.16, 'timestamp': '2024-12-08T09:24:19.464168', 'location': 'Chicago'}\n",
      "Остановка консюмера.\n"
     ]
    }
   ],
   "execution_count": 29
  }
 ],
 "metadata": {
  "kernelspec": {
   "display_name": "Python 3",
   "language": "python",
   "name": "python3"
  },
  "language_info": {
   "codemirror_mode": {
    "name": "ipython",
    "version": 3
   },
   "file_extension": ".py",
   "mimetype": "text/x-python",
   "name": "python",
   "nbconvert_exporter": "python",
   "pygments_lexer": "ipython3",
   "version": "3.9.6"
  },
  "orig_nbformat": 4
 },
 "nbformat": 4,
 "nbformat_minor": 2
}
