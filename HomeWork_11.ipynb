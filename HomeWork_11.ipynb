{
 "cells": [
  {
   "metadata": {
    "ExecuteTime": {
     "end_time": "2024-12-17T13:52:05.092339Z",
     "start_time": "2024-12-17T13:52:05.004873Z"
    }
   },
   "cell_type": "code",
   "source": [
    "import random\n",
    "from confluent_kafka import Producer, Consumer, KafkaError\n",
    "import json\n",
    "from collections import Counter\n",
    "from datetime import datetime, timedelta"
   ],
   "outputs": [],
   "execution_count": 3
  },
  {
   "metadata": {
    "ExecuteTime": {
     "end_time": "2024-12-17T13:52:06.468256Z",
     "start_time": "2024-12-17T13:52:06.365838Z"
    }
   },
   "cell_type": "code",
   "source": [
    "# Доступные действия и их вероятности\n",
    "actions = [\"login\", \"logout\", \"purchase\", \"click\"]\n",
    "action_weights = [0.5, 0.1, 0.1, 0.3]  # Вероятности для действий\n",
    "\n",
    "# Списки товаров для покупок\n",
    "purchase_items = [\"laptop\", \"phone\", \"headphones\", \"monitor\", \"keyboard\", \"mouse\", \"tablet\"]\n",
    "\n",
    "# Генерация данных\n",
    "def generate_realistic_actions(user_id):\n",
    "    num_actions = random.randint(5, 20)  # Количество действий от 5 до 20\n",
    "    actions_list = []\n",
    "    current_time = datetime.now() - timedelta(days=random.randint(1, 30))  # Начало временной шкалы\n",
    "\n",
    "    for _ in range(num_actions):\n",
    "        action = random.choices(actions, weights=action_weights, k=1)[0]\n",
    "        current_time += timedelta(seconds=random.randint(5, 300))  # Разброс времени между действиями\n",
    "\n",
    "        record = {\"user_id\": user_id, \"action\": action, \"timestamp\": current_time.isoformat()}\n",
    "\n",
    "        # Для purchase добавляем дополнительные детали\n",
    "        if action == \"purchase\":\n",
    "            record[\"item\"] = random.choice(purchase_items)\n",
    "            record[\"amount\"] = round(random.uniform(50, 2000), 2)  # Случайная сумма покупки\n",
    "\n",
    "        actions_list.append(record)\n",
    "\n",
    "    return actions_list\n",
    "\n",
    "# Генерация данных для пользователей\n",
    "data = []\n",
    "for user_id in range(1, 101):  # Генерация для 100 пользователей\n",
    "    user_actions = generate_realistic_actions(user_id)\n",
    "    data.extend(user_actions)\n",
    "\n",
    "# Запись данных в файл\n",
    "with open('realistic_client_actions.json', 'w') as f:\n",
    "    json.dump(data, f, indent=4)\n",
    "\n",
    "print(f\"Сгенерировано {len(data)} записей. Данные сохранены в 'realistic_client_actions.json'.\")\n"
   ],
   "outputs": [
    {
     "name": "stdout",
     "output_type": "stream",
     "text": [
      "Сгенерировано 1315 записей. Данные сохранены в 'realistic_client_actions.json'.\n"
     ]
    }
   ],
   "execution_count": 4
  },
  {
   "metadata": {},
   "cell_type": "code",
   "source": [
    "conf = {\n",
    "    'bootstrap.servers': 'localhost:9092',\n",
    "    'client.id': 'python-producer',\n",
    "    'acks': 'all',\n",
    "    'linger.ms': 10\n",
    "}\n",
    "\n",
    "producer = Producer(conf)\n",
    "\n",
    "# Callback для подтверждения отправки\n",
    "def delivery_report(err, msg):\n",
    "    if err is not None:\n",
    "        print(f\"Message delivery failed: {err}\")\n",
    "    else:\n",
    "        print(f\"Message delivered to {msg.topic()} [{msg.partition()}]\")\n",
    "\n",
    "# Чтение данных из файла и отправка в Kafka\n",
    "with open('realistic_client_actions.json') as f:\n",
    "    data = json.load(f)\n",
    "    for record in data:\n",
    "        producer.produce(\n",
    "            'example_topic',\n",
    "            key=str(record['user_id']),\n",
    "            value=json.dumps(record),\n",
    "            callback=delivery_report\n",
    "        )\n",
    "        producer.poll(0)  # Для вызова колбэков\n",
    "\n",
    "producer.flush()\n"
   ],
   "outputs": [],
   "execution_count": null
  },
  {
   "metadata": {
    "ExecuteTime": {
     "end_time": "2024-12-17T13:52:33.690428Z",
     "start_time": "2024-12-17T13:52:18.496134Z"
    }
   },
   "cell_type": "code",
   "source": [
    "consumer_conf = {\n",
    "    'bootstrap.servers': 'localhost:9092',\n",
    "    'group.id': 'my-group',\n",
    "    'auto.offset.reset': 'earliest',\n",
    "    'enable.auto.commit': True\n",
    "}\n",
    "\n",
    "consumer = Consumer(consumer_conf)\n",
    "consumer.subscribe(['example_topic'])\n",
    "\n",
    "action_counter = Counter()\n",
    "\n",
    "try:\n",
    "    while True:\n",
    "        msg = consumer.poll(1.0)  # Таймаут ожидания сообщений\n",
    "        if msg is None:\n",
    "            continue\n",
    "        if msg.error():\n",
    "            if msg.error().code() == KafkaError._PARTITION_EOF:\n",
    "                continue  # Конец раздела\n",
    "            else:\n",
    "                print(f\"Consumer error: {msg.error()}\")\n",
    "                break\n",
    "\n",
    "        # Обработка сообщения\n",
    "        record = json.loads(msg.value().decode('utf-8'))\n",
    "        action = record['action']\n",
    "        user_id = record['user_id']\n",
    "        action_counter[(user_id, action)] += 1\n",
    "\n",
    "except KeyboardInterrupt:\n",
    "    print(\"Consumer stopped manually.\")\n",
    "\n",
    "finally:\n",
    "    consumer.close()\n"
   ],
   "outputs": [
    {
     "name": "stdout",
     "output_type": "stream",
     "text": [
      "Consumer stopped manually.\n"
     ]
    }
   ],
   "execution_count": 6
  },
  {
   "metadata": {
    "ExecuteTime": {
     "end_time": "2024-12-17T13:59:57.282170Z",
     "start_time": "2024-12-17T13:59:57.270551Z"
    }
   },
   "cell_type": "code",
   "source": [
    "# Отфильтруем пользователей с действиями \"click\" и \"purchase\"\n",
    "filtered_actions = [(user, action, count) for (user, action), count in action_counter.items() if action in ['click', 'purchase']]\n",
    "# Отсортируем по количеству действий в порядке убывания\n",
    "sorted_actions = sorted(filtered_actions, key=lambda x: x[2], reverse=True)\n",
    "\n",
    "# Выведем топ-10 пользователей с наибольшим количеством действий \"click\" и \"purchase\"\n",
    "for user_id, action, count in sorted_actions[:10]:\n",
    "    print(f'User ID: {user_id}, Действие: {action}, Количество: {count}')"
   ],
   "outputs": [
    {
     "name": "stdout",
     "output_type": "stream",
     "text": [
      "User ID: 68, Действие: click, Количество: 9\n",
      "User ID: 87, Действие: click, Количество: 9\n",
      "User ID: 20, Действие: click, Количество: 8\n",
      "User ID: 37, Действие: click, Количество: 8\n",
      "User ID: 48, Действие: click, Количество: 8\n",
      "User ID: 17, Действие: click, Количество: 7\n",
      "User ID: 21, Действие: click, Количество: 7\n",
      "User ID: 27, Действие: click, Количество: 7\n",
      "User ID: 38, Действие: click, Количество: 7\n",
      "User ID: 64, Действие: click, Количество: 7\n"
     ]
    }
   ],
   "execution_count": 9
  }
 ],
 "metadata": {
  "kernelspec": {
   "display_name": "Python 3",
   "language": "python",
   "name": "python3"
  },
  "language_info": {
   "codemirror_mode": {
    "name": "ipython",
    "version": 2
   },
   "file_extension": ".py",
   "mimetype": "text/x-python",
   "name": "python",
   "nbconvert_exporter": "python",
   "pygments_lexer": "ipython2",
   "version": "2.7.6"
  }
 },
 "nbformat": 4,
 "nbformat_minor": 5
}
