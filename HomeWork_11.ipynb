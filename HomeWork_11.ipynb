{
  "nbformat": 4,
  "nbformat_minor": 0,
  "metadata": {
    "colab": {
      "provenance": [],
      "authorship_tag": "ABX9TyOnJFUUP80uLY6H4z03TblA",
      "include_colab_link": true
    },
    "kernelspec": {
      "name": "python3",
      "display_name": "Python 3"
    },
    "language_info": {
      "name": "python"
    }
  },
  "cells": [
    {
      "cell_type": "markdown",
      "metadata": {
        "id": "view-in-github",
        "colab_type": "text"
      },
      "source": [
        "<a href=\"https://colab.research.google.com/github/SkyRanger2010/DE2024_PY/blob/main/HomeWork_11.ipynb\" target=\"_parent\"><img src=\"https://colab.research.google.com/assets/colab-badge.svg\" alt=\"Open In Colab\"/></a>"
      ]
    },
    {
      "cell_type": "code",
      "source": [
        "!pip install kafka"
      ],
      "metadata": {
        "id": "RDe6attotJcy"
      },
      "execution_count": null,
      "outputs": []
    },
    {
      "cell_type": "code",
      "execution_count": null,
      "metadata": {
        "id": "Xw0YAPzHs_nF"
      },
      "outputs": [],
      "source": [
        "import random\n",
        "import time\n",
        "from kafka import KafkaProducer\n",
        "import json\n",
        "from datetime import datetime\n",
        "\n",
        "actions = [\"login\", \"logout\", \"purchase\", \"click\"]\n",
        "data = []\n",
        "\n",
        "for user_id in range(1, 101):  # 100 пользователей\n",
        "    for _ in range(random.randint(1, 10)):  # Случайное количество действий от 1 до 10\n",
        "        action = random.choice(actions)\n",
        "        timestamp = datetime.now().isoformat()\n",
        "        data.append({\"user_id\": user_id, \"action\": action, \"timestamp\": timestamp})\n",
        "\n",
        "# Запись данных в файл\n",
        "with open('client_actions.json', 'w') as f:\n",
        "    json.dump(data, f)\n",
        "\n",
        "producer = KafkaProducer(\n",
        "    bootstrap_servers='localhost:9092',\n",
        "    value_serializer=lambda v: json.dumps(v).encode('utf-8'),\n",
        "    acks='all',\n",
        "    retries=5,\n",
        "    linger_ms=10\n",
        ")\n",
        "\n",
        "with open('client_actions.json') as f:\n",
        "    data = json.load(f)\n",
        "    for record in data:\n",
        "        future = producer.send('example_topic', record)\n",
        "\n",
        "producer.flush()\n",
        "producer.close()"
      ]
    },
    {
      "cell_type": "code",
      "source": [
        "from kafka import KafkaConsumer\n",
        "from collections import Counter\n",
        "import json\n",
        "\n",
        "consumer = KafkaConsumer('example_topic',\n",
        "                         bootstrap_servers='localhost:9094',\n",
        "                         auto_offset_reset='earliest',\n",
        "                         enable_auto_commit=True,\n",
        "                         group_id='my-group',\n",
        "                         value_deserializer=lambda x: json.loads(x.decode('utf-8')))\n",
        "\n",
        "action_counter = Counter()\n",
        "\n",
        "for message in consumer:\n",
        "    action = message.value['action']\n",
        "    action_counter[(message.value['user_id'], action)] += 1\n",
        "\n",
        "# Получаем пользователей с наибольшим количеством действий\n",
        "most_active_users = action_counter.most_common()\n",
        "\n",
        "# Выводим результаты\n",
        "for (user_id, action), count in most_active_users:\n",
        "    print(f'User ID: {user_id}, Action: {action}, Count: {count}')\n",
        "\n",
        "consumer.close()"
      ],
      "metadata": {
        "id": "-40lJcM-tHrF"
      },
      "execution_count": null,
      "outputs": []
    },
    {
      "cell_type": "code",
      "source": [],
      "metadata": {
        "id": "ZrSzm8MptIhD"
      },
      "execution_count": null,
      "outputs": []
    }
  ]
}