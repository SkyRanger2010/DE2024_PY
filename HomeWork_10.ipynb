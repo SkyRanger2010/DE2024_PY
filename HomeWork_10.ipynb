{
  "nbformat": 4,
  "nbformat_minor": 0,
  "metadata": {
    "colab": {
      "provenance": [],
      "authorship_tag": "ABX9TyMnxteNlk+9O3NCkXCmB/0/",
      "include_colab_link": true
    },
    "kernelspec": {
      "name": "python3",
      "display_name": "Python 3"
    },
    "language_info": {
      "name": "python"
    }
  },
  "cells": [
    {
      "cell_type": "markdown",
      "metadata": {
        "id": "view-in-github",
        "colab_type": "text"
      },
      "source": [
        "<a href=\"https://colab.research.google.com/github/SkyRanger2010/DE2024_PY/blob/main/HomeWork_10.ipynb\" target=\"_parent\"><img src=\"https://colab.research.google.com/assets/colab-badge.svg\" alt=\"Open In Colab\"/></a>"
      ]
    },
    {
      "cell_type": "code",
      "source": [
        "!pip install sdv\n"
      ],
      "metadata": {
        "id": "m-kg0ovwpvDs"
      },
      "execution_count": null,
      "outputs": []
    },
    {
      "cell_type": "code",
      "source": [
        "from pyspark.sql import functions as F\n",
        "import time\n",
        "from sdv.single_table import GaussianCopulaSynthesizer\n",
        "from sdv.metadata import Metadata\n",
        "import pandas as pd\n",
        "from pyspark.sql import SparkSession\n",
        "\n",
        "path = ''\n",
        "df = pd.read_csv(path + 'electronic_devices.csv')\n",
        "df['addons'] = df['addons'].fillna('')\n",
        "df['addons'] = df['addons'].apply(lambda x: len(x.split(',')))\n",
        "\n",
        "metadata = Metadata.detect_from_dataframe(\n",
        "    data=df,\n",
        "    table_name='electronic_devices')\n",
        "\n",
        "synthesizer = GaussianCopulaSynthesizer(metadata)\n",
        "synthesizer.fit(df)\n",
        "\n",
        "synthetic_data = synthesizer.sample(num_rows=1_000_000)\n",
        "synthetic_data.to_csv(path + 'generated_electronic_devices.csv', index=False)"
      ],
      "metadata": {
        "id": "JSUvidROpuEo"
      },
      "execution_count": null,
      "outputs": []
    },
    {
      "cell_type": "code",
      "source": [
        "# Инициализация SparkSession\n",
        "spark = SparkSession.builder \\\n",
        "    .appName(\"Electronic Devices Analysis\") \\\n",
        "    .getOrCreate()\n",
        "\n",
        "spark.sparkContext.setCheckpointDir('/')\n",
        "\n",
        "\n",
        "# Чтение сгенерированных данных\n",
        "df_spark = spark.read.csv(\n",
        "    'generated_electronic_devices.csv', header=True, inferSchema=True)\n",
        "\n",
        "# Фильтрация данных за 2024-09-03 и с одной дополнительной покупкой\n",
        "filtered_data = df_spark.filter(\n",
        "    (df_spark.purchase_date == '2024-09-03') & (df_spark.addons == 1))\n",
        "\n",
        "# Группировка по полу и возрасту, вычисление разницы между минимальной и максимальной ценой\n",
        "result = filtered_data.groupBy('gender', 'age').agg(\n",
        "    (F.max('unit_price') - F.min('unit_price')).alias('price_difference'),\n",
        "    (F.max('total_price') - F.min('total_price')).alias('order_difference')\n",
        ")\n",
        "\n",
        "# Сбор данных в список\n",
        "result_collected = result.collect()\n",
        "\n",
        "# Без кэширования\n",
        "start_time = time.time()\n",
        "result_no_cache = filtered_data.groupBy('gender', 'age').agg(\n",
        "    (F.max('unit_price') - F.min('unit_price')).alias('price_difference'),\n",
        "    (F.max('total_price') - F.min('total_price')).alias('order_difference')\n",
        ").collect()\n",
        "no_cache_duration = time.time() - start_time\n",
        "\n",
        "# С кэшированием\n",
        "filtered_data.cache()  # Кэширование данных\n",
        "start_time = time.time()\n",
        "result_with_cache = filtered_data.groupBy('gender', 'age').agg(\n",
        "    (F.max('unit_price') - F.min('unit_price')).alias('price_difference'),\n",
        "    (F.max('total_price') - F.min('total_price')).alias('order_difference')\n",
        ").collect()\n",
        "cache_duration = time.time() - start_time\n",
        "\n",
        "# Сохранение контрольной точки\n",
        "filtered_data.checkpoint()  # Сохранение контрольной точки\n",
        "start_time = time.time()\n",
        "result_with_checkpoint = filtered_data.groupBy('gender', 'age').agg(\n",
        "    (F.max('unit_price') - F.min('unit_price')).alias('price_difference'),\n",
        "    (F.max('total_price') - F.min('total_price')).alias('order_difference')\n",
        ").collect()\n",
        "checkpoint_duration = time.time() - start_time\n",
        "\n",
        "print(f\"Duration without caching: {no_cache_duration} seconds\")\n",
        "print(f\"Duration with caching: {cache_duration} seconds\")\n",
        "print(f\"Duration with checkpointing: {checkpoint_duration} seconds\")"
      ],
      "metadata": {
        "colab": {
          "base_uri": "https://localhost:8080/"
        },
        "id": "rw-y8mWdq9BO",
        "outputId": "60a86abf-cc6c-4a53-90ce-d59bbd582b05"
      },
      "execution_count": 15,
      "outputs": [
        {
          "output_type": "stream",
          "name": "stdout",
          "text": [
            "Duration without caching: 0.7357027530670166 seconds\n",
            "Duration with caching: 0.35079503059387207 seconds\n",
            "Duration with checkpointing: 0.5172924995422363 seconds\n"
          ]
        }
      ]
    }
  ]
}